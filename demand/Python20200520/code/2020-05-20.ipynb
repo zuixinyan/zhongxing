{
 "cells": [
  {
   "cell_type": "code",
   "execution_count": 85,
   "metadata": {},
   "outputs": [],
   "source": [
    "import pandas as pd \n",
    "import numpy as np\n",
    "import matplotlib.pyplot as plt"
   ]
  },
  {
   "cell_type": "code",
   "execution_count": 5,
   "metadata": {},
   "outputs": [
    {
     "name": "stdout",
     "output_type": "stream",
     "text": [
      "   编号     身高    体重        BMI   肺活量  50米跑  立定跳远  坐位体前屈  800米跑  一分钟仰卧起坐    总分\n",
      "0   1  161.9  80.1  30.558977  3034  10.7   181    5.4    261       36  61.8\n",
      "1   2  167.5  59.9  21.349967  2130   8.9   183   15.3    228       32  76.7\n",
      "2   3  164.7  56.2  20.718061  1987  11.1   182   20.1    228       25  63.1\n",
      "3   4  156.0  47.7  19.600592  1723   9.3   160   21.4    225       25  64.7\n",
      "4   5  163.4  53.5  20.037783  2680   7.5   158   19.6    232       20  78.4\n"
     ]
    }
   ],
   "source": [
    "#读取数据文件\n",
    "dataframe_info = pd.read_excel('/Users/zhoujianjun/Downloads/workplace/2020-05-20/data/data.xlsx')\n",
    "\n",
    "print(dataframe_info.head())"
   ]
  },
  {
   "cell_type": "code",
   "execution_count": 74,
   "metadata": {},
   "outputs": [],
   "source": [
    "#从身高到一分钟仰卧起坐数据转换为分类数据\n",
    "def function_getClass(parm_dataframe,parm_column,parm_dict):\n",
    "    \"\"\"\n",
    "    传入参数：parm_dataframe:要处理数据框，parm_column:要处理的列,parm_list:处理规则\n",
    "    函数目的：做数值型数据分类\n",
    "    \"\"\"\n",
    "    list_limit = list(parm_dict.keys())\n",
    "    list_rule = list(map(lambda str_rule\n",
    "                               :parm_column+str_rule\n",
    "                               ,list(parm_dict.values())+ [\"优秀\"]))\n",
    "    parm_dataframe[\"结果\"] = pd.DataFrame(np.select([(parm_dataframe[parm_column]<=list_limit[0])\n",
    "                                ,((parm_dataframe[parm_column]>list_limit[0])&(parm_dataframe[parm_column]<=list_limit[1]))\n",
    "                                ,((parm_dataframe[parm_column]>list_limit[1])&(parm_dataframe[parm_column]<=list_limit[2]))\n",
    "                                ,(parm_dataframe[parm_column]>=list_limit[2])]\n",
    "                                ,list_rule))\n",
    "    dataframe_result = pd.DataFrame(list(zip(dataframe_info[\"编号\"]\n",
    "                                            ,dataframe_info[parm_column]\n",
    "                                            ,dataframe_info[\"结果\"])))\n",
    "    dataframe_result.columns = [\"编号\"] + [parm_column] + [parm_column+\"结果\"] \n",
    "    return dataframe_result\n",
    "    "
   ]
  },
  {
   "cell_type": "code",
   "execution_count": 97,
   "metadata": {},
   "outputs": [],
   "source": [
    "#统计各项不及格，及格，良好和优秀的人数\n",
    "\n",
    "def function_getBar(parm_DataFrame):\n",
    "    \"\"\"\n",
    "    传入参数：parm_dataframe:要进行画图的数据框\n",
    "    函数目的：得出柱状图的结果\n",
    "    \"\"\"\n",
    "    #得出统计结果\n",
    "    static_result = parm_DataFrame.iloc[:,0].groupby(parm_DataFrame.iloc[:,-1]).count()\n",
    "    #画图\n",
    "    name_list = list(static_result.index)\n",
    "    num_list = list(pd.DataFrame(static_result).iloc[:,0])\n",
    "    #定义图片名称\n",
    "    str_titile = parm_DataFrame.columns[1] + \"统计结果\"\n",
    "    plt.title(str_titile)\n",
    "    plt.bar(range(len(num_list)), num_list, color='rgb', tick_label=name_list)\n",
    "    plt.show()\n",
    "    print(\"输出成功\")\n",
    "    \n",
    "    return None\n"
   ]
  },
  {
   "cell_type": "code",
   "execution_count": 98,
   "metadata": {},
   "outputs": [
    {
     "data": {
      "image/png": "[encoded data removed]",
      "text/plain": [
       "<Figure size 432x288 with 1 Axes>"
      ]
     },
     "metadata": {
      "needs_background": "light"
     },
     "output_type": "display_data"
    },
    {
     "name": "stdout",
     "output_type": "stream",
     "text": [
      "输出成功\n"
     ]
    }
   ],
   "source": [
    "#画柱状图\n",
    "dataframe_rs = function_getClass(dataframe_info,\"立定跳远\",{151:\"不及格\",181:\"及格\",195:\"良好\"})\n",
    "function_getBar(dataframe_rs)\n"
   ]
  },
  {
   "cell_type": "code",
   "execution_count": null,
   "metadata": {},
   "outputs": [],
   "source": []
  }
 ],
 "metadata": {
  "kernelspec": {
   "display_name": "Python 3.6.5 64-bit",
   "language": "python",
   "name": "python36564bit9e383865fc74403b94325defa7949bd7"
  },
  "language_info": {
   "codemirror_mode": {
    "name": "ipython",
    "version": 3
   },
   "file_extension": ".py",
   "mimetype": "text/x-python",
   "name": "python",
   "nbconvert_exporter": "python",
   "pygments_lexer": "ipython3",
   "version": "3.6.5"
  }
 },
 "nbformat": 4,
 "nbformat_minor": 2
}
