{
 "cells": [
  {
   "cell_type": "code",
   "execution_count": 2,
   "metadata": {},
   "outputs": [],
   "source": [
    "import seaborn as sns\n",
    "import matplotlib.pyplot as plt\n",
    "\n",
    "%matplotlib inline"
   ]
  },
  {
   "cell_type": "code",
   "execution_count": 6,
   "metadata": {},
   "outputs": [
    {
     "output_type": "stream",
     "name": "stdout",
     "text": "survived  pclass     sex   age  sibsp  parch     fare embarked  class  \\\n0         0       3    male  22.0      1      0   7.2500        S  Third   \n1         1       1  female  38.0      1      0  71.2833        C  First   \n2         1       3  female  26.0      0      0   7.9250        S  Third   \n3         1       1  female  35.0      1      0  53.1000        S  First   \n4         0       3    male  35.0      0      0   8.0500        S  Third   \n\n     who  adult_male deck  embark_town alive  alone  \n0    man        True  NaN  Southampton    no  False  \n1  woman       False    C    Cherbourg   yes  False  \n2  woman       False  NaN  Southampton   yes   True  \n3  woman       False    C  Southampton   yes  False  \n4    man        True  NaN  Southampton    no   True  \n"
    }
   ],
   "source": [
    "DataFrame_Titanic=sns.load_dataset('titanic')\n",
    "\n",
    "print(DataFrame_Titanic.head())"
   ]
  },
  {
   "cell_type": "code",
   "execution_count": 13,
   "metadata": {},
   "outputs": [
    {
     "output_type": "stream",
     "name": "stdout",
     "text": "age\n1.0    2\n2.0    7\n3.0    1\n4.0    3\n6.0    1\nName: survived, dtype: int64\n"
    }
   ],
   "source": [
    "#获取遇难者年龄分布\n",
    "#定义遇难者\n",
    "DataFrame_Victim = DataFrame_Titanic[DataFrame_Titanic.alive == \"no\"]\n",
    "\n",
    "#将年龄进行分布 目前以5岁分一个年龄段\n",
    "\n",
    "DataFrame_VictimAge = DataFrame_Victim\n",
    "\n",
    "#定义遇难者年龄汇总\n",
    "DataFrame_VictimAgeDistribute = DataFrame_Victim.survived.groupby(DataFrame_Victim[\"age\"]).count()\n",
    "print(DataFrame_VictimAgeDistribute.head())"
   ]
  },
  {
   "cell_type": "code",
   "execution_count": 14,
   "metadata": {},
   "outputs": [],
   "source": [
    "#替换函数\n",
    "def Function_getReplace(parm_DataFrame,parm_Column,parm_rule):\n",
    "    \"\"\"\n",
    "    参数含义:parm_DataFrame:输入的数据框\n",
    "            parm_Column:输入需要替换的列名\n",
    "            parm_rule:替换规则 需要是字典类型\n",
    "    \"\"\"\n",
    "    #替换名字列表\n",
    "    list_rule = list(parm_rule.keys())\n",
    "    list_limit = list(parm_rule.values())\n",
    "    #定义替换列的名称\n",
    "    str_rulename = parm_Column + \"_Rule\"\n",
    "    for list_subLimit in list_limit:\n",
    "        DataFrame_Result[str_rulename] = pd.DataFrame(np.select([(parm_DataFrame[parm_column] >1 list_limit[0])\n",
    "                                , ((parm_dataframe[parm_column] > list_limit[0]) & (parm_dataframe[parm_column] <= list_limit[1]))\n",
    "                                , ((parm_dataframe[parm_column] > list_limit[1]) & (parm_dataframe[parm_column] <= list_limit[2]))\n",
    "                                , (parm_dataframe[parm_column] >= list_limit[2])]\n",
    "                                , list_rule))\n",
    "    return list_limit\n",
    "\n",
    "fuc=lambda x:'SH' if x=='ShangHai' else 'BJ' if x=='BeiJing' else 'SZ' if x=='ShenZhen' else np.NaN\n",
    " \n",
    "companydata['citylabel']=companydata['city'].apply(fuc)\n",
    " \n",
    "print(companydata)\n",
    "\n"
   ]
  },
  {
   "cell_type": "code",
   "execution_count": 15,
   "metadata": {},
   "outputs": [
    {
     "output_type": "stream",
     "name": "stdout",
     "text": "[[0, 5], [5, 10], [10, 15]]\n"
    }
   ],
   "source": [
    "dict_rule = {'0-5':[0,5],'6-10':[5,10],'11-15':[10,15]}\n",
    "\n",
    "print(list(dict_rule.values()))"
   ]
  },
  {
   "cell_type": "code",
   "execution_count": null,
   "metadata": {},
   "outputs": [],
   "source": []
  }
 ],
 "metadata": {
  "language_info": {
   "codemirror_mode": {
    "name": "ipython",
    "version": 3
   },
   "file_extension": ".py",
   "mimetype": "text/x-python",
   "name": "python",
   "nbconvert_exporter": "python",
   "pygments_lexer": "ipython3",
   "version": "3.7.4-final"
  },
  "orig_nbformat": 2,
  "kernelspec": {
   "name": "python37464bitbaseconda1cda4469e6bf4c729555698b3fbe464d",
   "display_name": "Python 3.7.4 64-bit ('base': conda)"
  }
 },
 "nbformat": 4,
 "nbformat_minor": 2
}