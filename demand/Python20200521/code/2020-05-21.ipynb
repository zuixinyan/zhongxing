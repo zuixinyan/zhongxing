{
 "cells": [
  {
   "cell_type": "code",
   "execution_count": 65,
   "metadata": {},
   "outputs": [],
   "source": [
    "import pandas as pd \n",
    "import numpy as np\n",
    "import io as io \n",
    "from sklearn.ensemble import RandomForestRegressor\n",
    "import seaborn as sns\n",
    "import matplotlib as mpl\n",
    "import matplotlib.pyplot as plt\n",
    "from matplotlib.pyplot import savefig\n",
    "from efficient_apriori import apriori\n",
    "from sklearn.cluster import KMeans  "
   ]
  },
  {
   "cell_type": "code",
   "execution_count": 24,
   "metadata": {},
   "outputs": [],
   "source": [
    "##获取文件\n",
    "def function_ReadFile(parm_FilePath):\n",
    "    \"\"\"\n",
    "    @author:***\n",
    "    @parameter: {FilePath:文件目录}\n",
    "    @create_date:\n",
    "    @update_date:\n",
    "    @comment:获取文件\n",
    "    \"\"\"\n",
    "    DataFrame_File = pd.read_excel(parm_FilePath)\n",
    "    return DataFrame_File"
   ]
  },
  {
   "cell_type": "code",
   "execution_count": 147,
   "metadata": {},
   "outputs": [],
   "source": [
    "# 获取画图方法\n",
    "def  function_Plot(parm_DataFrame,parm_FilePath):\n",
    "    \"\"\"\n",
    "    @author:***\n",
    "    @parameter: {parm_DataFrame:数据框}\n",
    "    @create_date:\n",
    "    @update_date:\n",
    "    @comment:获取图形\n",
    "    \"\"\"\n",
    "    # 指定默认字体\n",
    "    mpl.rcParams['font.sans-serif'] = ['STZhongsong'] \n",
    "    # 解决保存图像是负号'-'显示为方块的问题\n",
    "    mpl.rcParams['axes.unicode_minus'] = False  \n",
    "    # 创建图\n",
    "    plt.figure()\n",
    "    str_title = (parm_FilePath.split('/')[-1].split('.')[0])\n",
    "    plt.title(str_title)\n",
    "    plt.bar(range(len(parm_DataFrame)),parm_DataFrame.iloc[:,1],align = 'center')\n",
    "    plt.xticks(range(len(parm_DataFrame)),parm_DataFrame.iloc[:,0],rotation=90)\n",
    "    # 添加数据标签\n",
    "    for a, b in zip(range(len(parm_DataFrame.iloc[:0])), parm_DataFrame.iloc[:1]):\n",
    "        plt.text(a, b + 0.05 , '%.3f' % b,ha='center', va='bottom',fontsize=10)\n",
    "\n",
    "    savefig(parm_FilePath)\n",
    "    return None"
   ]
  },
  {
   "cell_type": "code",
   "execution_count": 7,
   "metadata": {},
   "outputs": [],
   "source": [
    "#获取随机森林方法\n",
    "def  function_Importances(parm_DataFrame):\n",
    "    \"\"\"\n",
    "    @author:***\n",
    "    @parameter: {parm_DataFrame:数据框}\n",
    "    @create_date:\n",
    "    @update_date:\n",
    "    @commet:通过随机森林获取重要性和模型\n",
    "    \"\"\"\n",
    "    #\n",
    "    RSR_result = RandomForestRegressor().fit(parm_DataFrame.iloc[:,1:-1] \\\n",
    "                                            ,parm_DataFrame.iloc[:,-1])\n",
    "    RSR_importances = RSR_result.feature_importances_\n",
    "    feature_name = list(parm_DataFrame.columns)[1:-1]\n",
    "    DataFrame_Result = pd.DataFrame({'feature_name':feature_name, 'value':list(RSR_importances)})\n",
    "    DataFrame_Result = DataFrame_Result.sort_values(by='value', ascending=False)\n",
    "    return [DataFrame_Result,RSR_result]\n"
   ]
  },
  {
   "cell_type": "code",
   "execution_count": 149,
   "metadata": {},
   "outputs": [
    {
     "name": "stderr",
     "output_type": "stream",
     "text": [
      "/opt/anaconda3/lib/python3.7/site-packages/sklearn/ensemble/forest.py:245: FutureWarning: The default value of n_estimators will change from 10 in version 0.20 to 100 in 0.22.\n",
      "  \"10 in version 0.20 to 100 in 0.22.\", FutureWarning)\n",
      "/opt/anaconda3/lib/python3.7/site-packages/matplotlib/backends/backend_agg.py:211: RuntimeWarning: Glyph 38468 missing from current font.\n",
      "  font.set_text(s, 0.0, flags=flags)\n",
      "/opt/anaconda3/lib/python3.7/site-packages/matplotlib/backends/backend_agg.py:211: RuntimeWarning: Glyph 20214 missing from current font.\n",
      "  font.set_text(s, 0.0, flags=flags)\n",
      "/opt/anaconda3/lib/python3.7/site-packages/matplotlib/backends/backend_agg.py:211: RuntimeWarning: Glyph 65306 missing from current font.\n",
      "  font.set_text(s, 0.0, flags=flags)\n",
      "/opt/anaconda3/lib/python3.7/site-packages/matplotlib/backends/backend_agg.py:211: RuntimeWarning: Glyph 31532 missing from current font.\n",
      "  font.set_text(s, 0.0, flags=flags)\n",
      "/opt/anaconda3/lib/python3.7/site-packages/matplotlib/backends/backend_agg.py:211: RuntimeWarning: Glyph 19968 missing from current font.\n",
      "  font.set_text(s, 0.0, flags=flags)\n",
      "/opt/anaconda3/lib/python3.7/site-packages/matplotlib/backends/backend_agg.py:211: RuntimeWarning: Glyph 24180 missing from current font.\n",
      "  font.set_text(s, 0.0, flags=flags)\n",
      "/opt/anaconda3/lib/python3.7/site-packages/matplotlib/backends/backend_agg.py:211: RuntimeWarning: Glyph 65288 missing from current font.\n",
      "  font.set_text(s, 0.0, flags=flags)\n",
      "/opt/anaconda3/lib/python3.7/site-packages/matplotlib/backends/backend_agg.py:211: RuntimeWarning: Glyph 21517 missing from current font.\n",
      "  font.set_text(s, 0.0, flags=flags)\n",
      "/opt/anaconda3/lib/python3.7/site-packages/matplotlib/backends/backend_agg.py:211: RuntimeWarning: Glyph 22899 missing from current font.\n",
      "  font.set_text(s, 0.0, flags=flags)\n",
      "/opt/anaconda3/lib/python3.7/site-packages/matplotlib/backends/backend_agg.py:211: RuntimeWarning: Glyph 65289 missing from current font.\n",
      "  font.set_text(s, 0.0, flags=flags)\n",
      "/opt/anaconda3/lib/python3.7/site-packages/matplotlib/backends/backend_agg.py:211: RuntimeWarning: Glyph 31859 missing from current font.\n",
      "  font.set_text(s, 0.0, flags=flags)\n",
      "/opt/anaconda3/lib/python3.7/site-packages/matplotlib/backends/backend_agg.py:211: RuntimeWarning: Glyph 36305 missing from current font.\n",
      "  font.set_text(s, 0.0, flags=flags)\n",
      "/opt/anaconda3/lib/python3.7/site-packages/matplotlib/backends/backend_agg.py:211: RuntimeWarning: Glyph 32954 missing from current font.\n",
      "  font.set_text(s, 0.0, flags=flags)\n",
      "/opt/anaconda3/lib/python3.7/site-packages/matplotlib/backends/backend_agg.py:211: RuntimeWarning: Glyph 27963 missing from current font.\n",
      "  font.set_text(s, 0.0, flags=flags)\n",
      "/opt/anaconda3/lib/python3.7/site-packages/matplotlib/backends/backend_agg.py:211: RuntimeWarning: Glyph 37327 missing from current font.\n",
      "  font.set_text(s, 0.0, flags=flags)\n",
      "/opt/anaconda3/lib/python3.7/site-packages/matplotlib/backends/backend_agg.py:211: RuntimeWarning: Glyph 31435 missing from current font.\n",
      "  font.set_text(s, 0.0, flags=flags)\n",
      "/opt/anaconda3/lib/python3.7/site-packages/matplotlib/backends/backend_agg.py:211: RuntimeWarning: Glyph 23450 missing from current font.\n",
      "  font.set_text(s, 0.0, flags=flags)\n",
      "/opt/anaconda3/lib/python3.7/site-packages/matplotlib/backends/backend_agg.py:211: RuntimeWarning: Glyph 36339 missing from current font.\n",
      "  font.set_text(s, 0.0, flags=flags)\n",
      "/opt/anaconda3/lib/python3.7/site-packages/matplotlib/backends/backend_agg.py:211: RuntimeWarning: Glyph 36828 missing from current font.\n",
      "  font.set_text(s, 0.0, flags=flags)\n",
      "/opt/anaconda3/lib/python3.7/site-packages/matplotlib/backends/backend_agg.py:211: RuntimeWarning: Glyph 20998 missing from current font.\n",
      "  font.set_text(s, 0.0, flags=flags)\n",
      "/opt/anaconda3/lib/python3.7/site-packages/matplotlib/backends/backend_agg.py:211: RuntimeWarning: Glyph 38047 missing from current font.\n",
      "  font.set_text(s, 0.0, flags=flags)\n",
      "/opt/anaconda3/lib/python3.7/site-packages/matplotlib/backends/backend_agg.py:211: RuntimeWarning: Glyph 20208 missing from current font.\n",
      "  font.set_text(s, 0.0, flags=flags)\n",
      "/opt/anaconda3/lib/python3.7/site-packages/matplotlib/backends/backend_agg.py:211: RuntimeWarning: Glyph 21351 missing from current font.\n",
      "  font.set_text(s, 0.0, flags=flags)\n",
      "/opt/anaconda3/lib/python3.7/site-packages/matplotlib/backends/backend_agg.py:211: RuntimeWarning: Glyph 36215 missing from current font.\n",
      "  font.set_text(s, 0.0, flags=flags)\n",
      "/opt/anaconda3/lib/python3.7/site-packages/matplotlib/backends/backend_agg.py:211: RuntimeWarning: Glyph 22352 missing from current font.\n",
      "  font.set_text(s, 0.0, flags=flags)\n",
      "/opt/anaconda3/lib/python3.7/site-packages/matplotlib/backends/backend_agg.py:211: RuntimeWarning: Glyph 20301 missing from current font.\n",
      "  font.set_text(s, 0.0, flags=flags)\n",
      "/opt/anaconda3/lib/python3.7/site-packages/matplotlib/backends/backend_agg.py:211: RuntimeWarning: Glyph 20307 missing from current font.\n",
      "  font.set_text(s, 0.0, flags=flags)\n",
      "/opt/anaconda3/lib/python3.7/site-packages/matplotlib/backends/backend_agg.py:211: RuntimeWarning: Glyph 21069 missing from current font.\n",
      "  font.set_text(s, 0.0, flags=flags)\n",
      "/opt/anaconda3/lib/python3.7/site-packages/matplotlib/backends/backend_agg.py:211: RuntimeWarning: Glyph 23624 missing from current font.\n",
      "  font.set_text(s, 0.0, flags=flags)\n",
      "/opt/anaconda3/lib/python3.7/site-packages/matplotlib/backends/backend_agg.py:211: RuntimeWarning: Glyph 36523 missing from current font.\n",
      "  font.set_text(s, 0.0, flags=flags)\n",
      "/opt/anaconda3/lib/python3.7/site-packages/matplotlib/backends/backend_agg.py:211: RuntimeWarning: Glyph 39640 missing from current font.\n",
      "  font.set_text(s, 0.0, flags=flags)\n",
      "/opt/anaconda3/lib/python3.7/site-packages/matplotlib/backends/backend_agg.py:211: RuntimeWarning: Glyph 37325 missing from current font.\n",
      "  font.set_text(s, 0.0, flags=flags)\n",
      "/opt/anaconda3/lib/python3.7/site-packages/matplotlib/backends/backend_agg.py:180: RuntimeWarning: Glyph 31859 missing from current font.\n",
      "  font.set_text(s, 0, flags=flags)\n",
      "/opt/anaconda3/lib/python3.7/site-packages/matplotlib/backends/backend_agg.py:180: RuntimeWarning: Glyph 36305 missing from current font.\n",
      "  font.set_text(s, 0, flags=flags)\n",
      "/opt/anaconda3/lib/python3.7/site-packages/matplotlib/backends/backend_agg.py:180: RuntimeWarning: Glyph 32954 missing from current font.\n",
      "  font.set_text(s, 0, flags=flags)\n",
      "/opt/anaconda3/lib/python3.7/site-packages/matplotlib/backends/backend_agg.py:180: RuntimeWarning: Glyph 27963 missing from current font.\n",
      "  font.set_text(s, 0, flags=flags)\n",
      "/opt/anaconda3/lib/python3.7/site-packages/matplotlib/backends/backend_agg.py:180: RuntimeWarning: Glyph 37327 missing from current font.\n",
      "  font.set_text(s, 0, flags=flags)\n",
      "/opt/anaconda3/lib/python3.7/site-packages/matplotlib/backends/backend_agg.py:180: RuntimeWarning: Glyph 31435 missing from current font.\n",
      "  font.set_text(s, 0, flags=flags)\n",
      "/opt/anaconda3/lib/python3.7/site-packages/matplotlib/backends/backend_agg.py:180: RuntimeWarning: Glyph 23450 missing from current font.\n",
      "  font.set_text(s, 0, flags=flags)\n",
      "/opt/anaconda3/lib/python3.7/site-packages/matplotlib/backends/backend_agg.py:180: RuntimeWarning: Glyph 36339 missing from current font.\n",
      "  font.set_text(s, 0, flags=flags)\n",
      "/opt/anaconda3/lib/python3.7/site-packages/matplotlib/backends/backend_agg.py:180: RuntimeWarning: Glyph 36828 missing from current font.\n",
      "  font.set_text(s, 0, flags=flags)\n",
      "/opt/anaconda3/lib/python3.7/site-packages/matplotlib/backends/backend_agg.py:180: RuntimeWarning: Glyph 19968 missing from current font.\n",
      "  font.set_text(s, 0, flags=flags)\n",
      "/opt/anaconda3/lib/python3.7/site-packages/matplotlib/backends/backend_agg.py:180: RuntimeWarning: Glyph 20998 missing from current font.\n",
      "  font.set_text(s, 0, flags=flags)\n",
      "/opt/anaconda3/lib/python3.7/site-packages/matplotlib/backends/backend_agg.py:180: RuntimeWarning: Glyph 38047 missing from current font.\n",
      "  font.set_text(s, 0, flags=flags)\n",
      "/opt/anaconda3/lib/python3.7/site-packages/matplotlib/backends/backend_agg.py:180: RuntimeWarning: Glyph 20208 missing from current font.\n",
      "  font.set_text(s, 0, flags=flags)\n",
      "/opt/anaconda3/lib/python3.7/site-packages/matplotlib/backends/backend_agg.py:180: RuntimeWarning: Glyph 21351 missing from current font.\n",
      "  font.set_text(s, 0, flags=flags)\n",
      "/opt/anaconda3/lib/python3.7/site-packages/matplotlib/backends/backend_agg.py:180: RuntimeWarning: Glyph 36215 missing from current font.\n",
      "  font.set_text(s, 0, flags=flags)\n",
      "/opt/anaconda3/lib/python3.7/site-packages/matplotlib/backends/backend_agg.py:180: RuntimeWarning: Glyph 22352 missing from current font.\n",
      "  font.set_text(s, 0, flags=flags)\n",
      "/opt/anaconda3/lib/python3.7/site-packages/matplotlib/backends/backend_agg.py:180: RuntimeWarning: Glyph 20301 missing from current font.\n",
      "  font.set_text(s, 0, flags=flags)\n",
      "/opt/anaconda3/lib/python3.7/site-packages/matplotlib/backends/backend_agg.py:180: RuntimeWarning: Glyph 20307 missing from current font.\n",
      "  font.set_text(s, 0, flags=flags)\n",
      "/opt/anaconda3/lib/python3.7/site-packages/matplotlib/backends/backend_agg.py:180: RuntimeWarning: Glyph 21069 missing from current font.\n",
      "  font.set_text(s, 0, flags=flags)\n",
      "/opt/anaconda3/lib/python3.7/site-packages/matplotlib/backends/backend_agg.py:180: RuntimeWarning: Glyph 23624 missing from current font.\n",
      "  font.set_text(s, 0, flags=flags)\n",
      "/opt/anaconda3/lib/python3.7/site-packages/matplotlib/backends/backend_agg.py:180: RuntimeWarning: Glyph 36523 missing from current font.\n",
      "  font.set_text(s, 0, flags=flags)\n",
      "/opt/anaconda3/lib/python3.7/site-packages/matplotlib/backends/backend_agg.py:180: RuntimeWarning: Glyph 39640 missing from current font.\n",
      "  font.set_text(s, 0, flags=flags)\n",
      "/opt/anaconda3/lib/python3.7/site-packages/matplotlib/backends/backend_agg.py:180: RuntimeWarning: Glyph 37325 missing from current font.\n",
      "  font.set_text(s, 0, flags=flags)\n",
      "/opt/anaconda3/lib/python3.7/site-packages/matplotlib/backends/backend_agg.py:180: RuntimeWarning: Glyph 38468 missing from current font.\n",
      "  font.set_text(s, 0, flags=flags)\n",
      "/opt/anaconda3/lib/python3.7/site-packages/matplotlib/backends/backend_agg.py:180: RuntimeWarning: Glyph 20214 missing from current font.\n",
      "  font.set_text(s, 0, flags=flags)\n",
      "/opt/anaconda3/lib/python3.7/site-packages/matplotlib/backends/backend_agg.py:180: RuntimeWarning: Glyph 65306 missing from current font.\n",
      "  font.set_text(s, 0, flags=flags)\n",
      "/opt/anaconda3/lib/python3.7/site-packages/matplotlib/backends/backend_agg.py:180: RuntimeWarning: Glyph 31532 missing from current font.\n",
      "  font.set_text(s, 0, flags=flags)\n",
      "/opt/anaconda3/lib/python3.7/site-packages/matplotlib/backends/backend_agg.py:180: RuntimeWarning: Glyph 24180 missing from current font.\n",
      "  font.set_text(s, 0, flags=flags)\n",
      "/opt/anaconda3/lib/python3.7/site-packages/matplotlib/backends/backend_agg.py:180: RuntimeWarning: Glyph 65288 missing from current font.\n",
      "  font.set_text(s, 0, flags=flags)\n",
      "/opt/anaconda3/lib/python3.7/site-packages/matplotlib/backends/backend_agg.py:180: RuntimeWarning: Glyph 21517 missing from current font.\n",
      "  font.set_text(s, 0, flags=flags)\n",
      "/opt/anaconda3/lib/python3.7/site-packages/matplotlib/backends/backend_agg.py:180: RuntimeWarning: Glyph 22899 missing from current font.\n",
      "  font.set_text(s, 0, flags=flags)\n",
      "/opt/anaconda3/lib/python3.7/site-packages/matplotlib/backends/backend_agg.py:180: RuntimeWarning: Glyph 65289 missing from current font.\n",
      "  font.set_text(s, 0, flags=flags)\n"
     ]
    },
    {
     "data": {
      "image/png": "[encoded data removed]",
      "text/plain": [
       "<Figure size 432x288 with 1 Axes>"
      ]
     },
     "metadata": {
      "needs_background": "light"
     },
     "output_type": "display_data"
    }
   ],
   "source": [
    "if __name__==\"__main__\":\n",
    "    #女结果图\n",
    "    DataFrame_TestF = function_ReadFile('/Users/zhoujianjun/Downloads/workplace/2020-05-21/data/附件1：第一年（800名女）.xlsx')\n",
    "    list_Importances_TestF = function_Importances(DataFrame_TestF)\n",
    "    function_Plot(list_Importances_TestF[0], '/Users/zhoujianjun/Downloads/workplace/2020-05-21/image/附件1：第一年（800名女）.jpg')"
   ]
  },
  {
   "cell_type": "code",
   "execution_count": 28,
   "metadata": {},
   "outputs": [
    {
     "name": "stdout",
     "output_type": "stream",
     "text": [
      "[61.19000000000001, 79.46000000000001, 71.47, 62.089999999999996, 70.04, 62.370000000000005, 84.11, 80.62, 66.02000000000001, 70.84, 63.65999999999999, 70.99999999999999, 76.52000000000001, 79.74, 79.74000000000001, 81.52, 69.01, 71.02000000000001, 66.27, 71.26, 70.05, 77.81, 75.59, 79.24, 67.98, 64.48000000000002, 70.6, 66.14000000000001, 75.82000000000001, 63.839999999999996, 65.0, 67.69999999999999, 76.79999999999998, 74.82000000000001, 66.98000000000002, 73.10999999999999, 72.52, 75.60999999999999, 71.22, 75.58, 71.94, 75.99, 80.22, 71.63999999999999, 57.45, 83.06000000000002, 71.89000000000001, 74.64, 76.73, 78.35, 69.31, 63.82000000000001, 62.36, 80.25999999999999, 63.29999999999999, 63.370000000000005, 64.25999999999999, 75.27000000000001, 74.03999999999999, 68.99, 85.36, 68.89000000000001, 74.71000000000001, 64.57000000000001, 74.68, 72.91, 69.86000000000001, 79.01000000000002, 73.14000000000001, 63.079999999999984, 75.72999999999999, 75.69000000000001, 71.93, 59.71, 73.43999999999998, 69.58999999999999, 73.94999999999999, 73.78999999999999, 64.26000000000002, 77.67, 71.47, 74.64000000000001, 78.38, 74.11999999999999, 71.34, 73.94000000000001, 69.88000000000001, 77.04999999999998, 70.66, 60.31, 58.14000000000001, 63.629999999999995, 64.03999999999999, 68.06, 62.55, 71.24, 66.42999999999999, 55.64, 74.24999999999999, 66.00000000000001, 64.89, 62.239999999999995, 69.25999999999999, 63.56999999999999, 75.07, 64.05, 73.96000000000001, 65.75999999999999, 73.94, 70.64, 73.99, 65.6, 73.86999999999999, 65.55, 64.87, 69.3, 69.63, 63.470000000000006, 76.47999999999999, 73.66999999999999, 68.71000000000001, 47.82, 59.35, 76.32000000000002, 62.71, 73.03, 55.52, 80.29999999999998, 74.26, 73.12, 72.35, 78.53999999999999, 77.61999999999998, 76.67, 68.59, 71.1, 79.83, 77.46000000000001, 77.00000000000001, 81.84, 66.72, 61.74000000000001, 61.510000000000005, 73.41999999999999, 55.71, 83.31000000000002, 69.52000000000001, 66.09, 64.5, 67.11, 77.92, 78.46, 78.07000000000001, 75.27000000000001, 76.13000000000001, 82.96000000000001, 77.29, 73.32000000000001, 79.73999999999998, 72.03999999999999, 70.41999999999999, 75.45, 67.76000000000002, 83.53999999999999, 77.89, 69.47, 65.46000000000001, 63.85999999999999, 75.6, 72.63000000000001, 54.21, 75.03, 74.7, 77.32000000000002, 59.0, 72.42, 68.56, 70.17, 70.47, 76.77999999999999, 76.07000000000001, 71.16, 74.55, 78.59, 74.71000000000001, 79.42999999999999, 76.31, 71.41, 74.34, 72.63, 76.33, 71.86000000000001, 73.84, 65.77, 77.25, 75.55000000000001, 64.25, 73.1, 70.30000000000001, 71.99, 67.63, 71.43, 80.30999999999999, 73.04, 71.62, 77.67999999999999, 71.05, 66.18, 69.17999999999999, 73.38000000000001, 71.65, 68.27, 76.61999999999999, 74.71000000000001, 73.25000000000001, 67.44000000000001, 51.18, 62.31, 60.879999999999995, 71.32999999999998, 60.64, 51.3, 69.27000000000001, 67.87, 61.94000000000001, 78.57000000000001, 72.53, 72.34, 72.24999999999999, 72.25999999999999, 75.74, 58.94, 82.27000000000001, 69.57000000000001, 85.31000000000002, 73.08, 74.6, 79.61, 59.589999999999996, 67.2, 72.46000000000001, 75.85999999999999, 75.65, 77.24, 72.07, 74.52, 72.38000000000001, 74.67, 74.33000000000001, 77.48, 76.76, 67.72, 74.69999999999999, 73.41, 73.62999999999998, 76.16999999999999, 64.17999999999999, 65.84, 70.57, 75.71, 75.63, 76.00999999999999, 54.540000000000006, 75.07, 73.64000000000001, 62.839999999999996, 61.35999999999999, 76.8, 75.12, 67.86000000000001, 76.92, 73.13000000000001, 63.35, 71.83000000000001, 73.35, 62.96, 80.44999999999999, 60.540000000000006, 49.83, 72.31, 76.17999999999999, 72.72, 70.72000000000001, 74.72999999999999, 59.98, 72.31, 72.53, 69.15, 72.33999999999999, 68.9, 65.38000000000001, 77.26, 72.12, 71.13, 62.85999999999999, 72.53, 68.15, 75.60999999999999, 54.56, 67.29999999999998, 68.19, 62.46, 67.45, 71.25, 76.64, 60.17, 67.30000000000001, 73.29, 83.65, 73.10999999999999, 72.44, 74.54999999999998, 70.89000000000001, 66.91, 68.85, 67.8, 73.86, 70.85, 69.36, 61.45, 71.41, 69.37000000000002, 76.03999999999999, 72.7, 69.97, 77.82, 74.02, 72.72, 73.83000000000001, 60.67999999999999, 70.64000000000001, 72.95000000000002, 71.38000000000001, 77.42, 68.03, 75.97, 70.36, 78.48, 71.31000000000002, 74.62, 70.85, 72.72, 71.97999999999999, 66.61999999999999, 77.9, 71.47, 74.55999999999999, 68.56, 64.79, 78.78, 72.9, 72.1, 72.18, 71.11999999999999, 71.35999999999999, 63.0, 57.96, 72.29999999999998, 62.11, 62.489999999999995, 75.47, 69.47999999999999, 70.15999999999998, 69.22999999999999, 72.01000000000002, 74.66999999999999, 73.47, 55.17999999999999, 58.74000000000001, 71.77, 68.09, 72.53, 73.02000000000001, 71.64, 71.97, 75.09, 71.07000000000001, 72.46, 75.44, 68.69000000000001, 65.16, 69.03, 63.779999999999994, 76.25999999999999, 71.03999999999999, 78.16, 70.82, 70.61999999999999, 72.55, 69.22, 75.85999999999999, 73.26, 80.15, 66.25999999999999, 76.96000000000001, 80.36, 63.9, 74.74, 74.58, 73.77000000000001, 74.55, 66.66999999999999, 69.38000000000002, 74.66999999999999, 60.69, 79.18999999999998, 76.66000000000003, 70.85, 70.08, 72.63000000000001, 70.62, 55.39, 64.35, 69.72, 76.82, 66.21000000000001, 70.91, 75.08, 71.18999999999998, 73.25999999999999, 70.49, 77.27000000000001, 71.1, 78.97, 72.72, 58.209999999999994, 67.18, 71.86, 78.39, 68.89000000000001, 68.72999999999999, 72.03999999999999, 71.57000000000001, 70.88, 74.92999999999999, 72.08999999999999, 67.92999999999999, 70.45, 75.71, 74.44, 69.59, 72.31, 76.61999999999999, 79.98, 67.77000000000001, 79.78999999999999, 81.75999999999999, 73.77999999999999, 80.97999999999999, 75.63000000000002, 67.89, 71.85, 73.95, 68.32000000000001, 69.0, 68.13, 68.25, 75.54, 74.39999999999999, 76.7, 72.04999999999998, 72.16, 73.05000000000001, 73.64999999999999, 73.64000000000001, 73.83, 69.44, 63.03000000000001, 75.32000000000001, 65.95, 81.07000000000001, 69.66999999999999, 71.97999999999999, 72.45, 64.19, 67.27, 52.75, 64.67999999999999, 71.2, 48.980000000000004, 47.2, 66.03, 65.27000000000001, 59.60000000000001, 65.53999999999999, 60.5, 72.25999999999999, 62.68000000000001, 68.24000000000001, 74.27000000000001, 76.33, 64.55999999999999, 70.00000000000001, 74.05, 73.05999999999999, 49.459999999999994, 68.91000000000001, 68.21000000000001, 58.85000000000001, 63.19, 66.38, 73.87, 61.96, 65.44999999999999, 73.27000000000001, 62.71, 74.22, 62.27, 75.94, 74.60999999999999, 77.01, 77.91999999999999, 82.03999999999999, 74.05, 74.99, 76.34, 68.61000000000001, 78.36999999999999, 82.36999999999999, 68.58000000000001, 73.11000000000001, 72.3, 73.56, 76.68, 62.81999999999999, 69.14000000000001, 65.66, 62.980000000000004, 73.33000000000001, 78.87, 65.35, 74.07000000000001, 78.79, 73.68, 67.28999999999999, 74.21, 73.53999999999999, 70.56, 71.86999999999999, 75.08999999999999, 71.44999999999999, 74.33, 77.28999999999999, 79.47, 79.28, 74.89, 73.55, 74.64, 70.94, 72.0, 74.74, 79.33999999999999, 74.37999999999998, 76.43999999999998, 73.93, 76.79, 76.53, 68.89000000000001, 75.1, 79.45, 70.62, 71.83, 75.52, 71.88000000000001, 77.39999999999999, 76.14000000000001, 80.97, 72.15, 67.94999999999999, 74.51000000000002, 70.09, 73.41, 70.75999999999999, 70.51, 76.08, 77.62, 73.85000000000001, 66.86000000000001, 75.91, 74.57, 74.99, 75.3, 74.49, 72.11000000000001, 68.13000000000001, 56.6, 66.39, 70.11999999999999, 70.79999999999998, 75.1, 69.97999999999999, 70.33000000000001, 76.24000000000001, 70.92, 75.66000000000001, 75.13000000000001, 71.74, 72.50000000000001, 92.88, 59.57000000000001, 75.84, 67.13, 80.58999999999999, 83.21000000000001, 84.94999999999999, 78.36999999999999, 81.71, 78.66, 77.03, 68.86, 57.34000000000001, 59.84000000000001, 75.12, 69.72999999999999, 76.37000000000002, 74.56000000000002, 68.94, 70.68999999999998, 64.36999999999999, 75.72000000000001, 63.31999999999999, 70.42999999999999, 66.78, 77.38000000000001, 70.67, 75.94, 66.89, 64.88999999999999, 68.81, 69.15, 76.06, 72.82, 75.59, 67.77, 76.88999999999999, 67.03999999999999, 62.370000000000005, 77.96000000000001, 74.45, 72.66999999999999, 67.78, 77.10000000000001, 81.11, 73.65, 73.28, 81.03, 71.01, 43.04, 71.11, 77.57000000000001, 63.54, 64.49999999999999, 63.0, 71.08999999999999, 85.34000000000002, 71.49, 62.779999999999994, 68.05, 69.55000000000001, 74.52, 75.94, 68.99999999999999, 70.8, 77.56, 77.01, 69.8, 66.56000000000002, 69.99, 74.31, 73.08, 71.2, 75.9, 70.82000000000001, 75.63999999999999, 74.44, 74.79999999999998, 67.82000000000001, 70.39, 68.38999999999999, 77.79, 70.10999999999999, 74.49000000000001, 68.11, 69.76000000000002, 64.66, 69.76, 63.14, 75.84, 71.29, 73.5, 72.09, 71.97999999999999, 77.53, 77.59, 76.89999999999999, 77.12, 70.99000000000001, 71.86999999999999, 64.13, 66.69, 62.269999999999996, 75.79999999999998, 66.16, 71.04, 74.27, 72.09, 73.77000000000001, 72.28999999999999, 73.52000000000001, 77.86000000000001, 72.49, 67.74, 70.70000000000002, 71.59, 72.84, 71.65, 73.28, 72.41, 68.03999999999999, 72.12999999999998, 78.82000000000002, 72.85000000000001, 73.72999999999999, 72.16, 71.99, 68.19, 72.96000000000001, 71.09, 69.53, 73.90000000000002, 73.54999999999998, 59.60000000000001, 71.26, 70.71000000000001, 51.42999999999999, 58.18999999999998, 70.82, 61.60999999999999, 74.99000000000001, 65.39000000000001, 69.84, 66.98, 51.160000000000004, 81.72, 61.28000000000001, 80.41, 67.77000000000001, 56.739999999999995, 76.78999999999999, 73.37000000000002, 73.46, 71.03999999999999, 72.95, 73.53999999999999, 66.50000000000001, 62.14, 81.46000000000001, 67.2, 79.27, 78.86999999999999, 64.04, 86.85000000000002, 71.22, 71.2, 77.55999999999999, 77.86, 81.29999999999998, 79.51, 63.69, 71.77000000000001, 75.02000000000001, 74.97, 60.46999999999999, 74.69, 50.83, 76.95, 77.72999999999999, 88.86999999999999, 57.739999999999995, 60.78000000000001, 67.16, 77.37, 76.88, 72.47, 68.14000000000001, 68.38, 72.74, 67.53999999999999, 64.72000000000001, 68.69, 61.60000000000001, 76.74, 73.15, 71.32, 73.02000000000001, 67.98, 73.98999999999998, 76.89, 75.41000000000001, 74.13000000000001]\n"
     ]
    }
   ],
   "source": [
    "    #女训练集合\n",
    "    DataFrame_TrainF = function_ReadFile('/Users/zhoujianjun/Downloads/workplace/2020-05-21/data/附件3：第二年（800名女）.xlsx')\n",
    "    #女训练级预测结果\n",
    "    print(list(list_Importances_TestF[1].predict(DataFrame_TrainF.iloc[:, 1:-1])))"
   ]
  },
  {
   "cell_type": "code",
   "execution_count": 148,
   "metadata": {},
   "outputs": [
    {
     "name": "stderr",
     "output_type": "stream",
     "text": [
      "/opt/anaconda3/lib/python3.7/site-packages/sklearn/ensemble/forest.py:245: FutureWarning: The default value of n_estimators will change from 10 in version 0.20 to 100 in 0.22.\n",
      "  \"10 in version 0.20 to 100 in 0.22.\", FutureWarning)\n",
      "/opt/anaconda3/lib/python3.7/site-packages/matplotlib/backends/backend_agg.py:211: RuntimeWarning: Glyph 38468 missing from current font.\n",
      "  font.set_text(s, 0.0, flags=flags)\n",
      "/opt/anaconda3/lib/python3.7/site-packages/matplotlib/backends/backend_agg.py:211: RuntimeWarning: Glyph 20214 missing from current font.\n",
      "  font.set_text(s, 0.0, flags=flags)\n",
      "/opt/anaconda3/lib/python3.7/site-packages/matplotlib/backends/backend_agg.py:211: RuntimeWarning: Glyph 65306 missing from current font.\n",
      "  font.set_text(s, 0.0, flags=flags)\n",
      "/opt/anaconda3/lib/python3.7/site-packages/matplotlib/backends/backend_agg.py:211: RuntimeWarning: Glyph 31532 missing from current font.\n",
      "  font.set_text(s, 0.0, flags=flags)\n",
      "/opt/anaconda3/lib/python3.7/site-packages/matplotlib/backends/backend_agg.py:211: RuntimeWarning: Glyph 19968 missing from current font.\n",
      "  font.set_text(s, 0.0, flags=flags)\n",
      "/opt/anaconda3/lib/python3.7/site-packages/matplotlib/backends/backend_agg.py:211: RuntimeWarning: Glyph 24180 missing from current font.\n",
      "  font.set_text(s, 0.0, flags=flags)\n",
      "/opt/anaconda3/lib/python3.7/site-packages/matplotlib/backends/backend_agg.py:211: RuntimeWarning: Glyph 65288 missing from current font.\n",
      "  font.set_text(s, 0.0, flags=flags)\n",
      "/opt/anaconda3/lib/python3.7/site-packages/matplotlib/backends/backend_agg.py:211: RuntimeWarning: Glyph 21517 missing from current font.\n",
      "  font.set_text(s, 0.0, flags=flags)\n",
      "/opt/anaconda3/lib/python3.7/site-packages/matplotlib/backends/backend_agg.py:211: RuntimeWarning: Glyph 30007 missing from current font.\n",
      "  font.set_text(s, 0.0, flags=flags)\n",
      "/opt/anaconda3/lib/python3.7/site-packages/matplotlib/backends/backend_agg.py:211: RuntimeWarning: Glyph 65289 missing from current font.\n",
      "  font.set_text(s, 0.0, flags=flags)\n",
      "/opt/anaconda3/lib/python3.7/site-packages/matplotlib/backends/backend_agg.py:211: RuntimeWarning: Glyph 24341 missing from current font.\n",
      "  font.set_text(s, 0.0, flags=flags)\n",
      "/opt/anaconda3/lib/python3.7/site-packages/matplotlib/backends/backend_agg.py:211: RuntimeWarning: Glyph 20307 missing from current font.\n",
      "  font.set_text(s, 0.0, flags=flags)\n",
      "/opt/anaconda3/lib/python3.7/site-packages/matplotlib/backends/backend_agg.py:211: RuntimeWarning: Glyph 21521 missing from current font.\n",
      "  font.set_text(s, 0.0, flags=flags)\n",
      "/opt/anaconda3/lib/python3.7/site-packages/matplotlib/backends/backend_agg.py:211: RuntimeWarning: Glyph 19978 missing from current font.\n",
      "  font.set_text(s, 0.0, flags=flags)\n",
      "/opt/anaconda3/lib/python3.7/site-packages/matplotlib/backends/backend_agg.py:211: RuntimeWarning: Glyph 31859 missing from current font.\n",
      "  font.set_text(s, 0.0, flags=flags)\n",
      "/opt/anaconda3/lib/python3.7/site-packages/matplotlib/backends/backend_agg.py:211: RuntimeWarning: Glyph 36305 missing from current font.\n",
      "  font.set_text(s, 0.0, flags=flags)\n",
      "/opt/anaconda3/lib/python3.7/site-packages/matplotlib/backends/backend_agg.py:211: RuntimeWarning: Glyph 32954 missing from current font.\n",
      "  font.set_text(s, 0.0, flags=flags)\n",
      "/opt/anaconda3/lib/python3.7/site-packages/matplotlib/backends/backend_agg.py:211: RuntimeWarning: Glyph 27963 missing from current font.\n",
      "  font.set_text(s, 0.0, flags=flags)\n",
      "/opt/anaconda3/lib/python3.7/site-packages/matplotlib/backends/backend_agg.py:211: RuntimeWarning: Glyph 37327 missing from current font.\n",
      "  font.set_text(s, 0.0, flags=flags)\n",
      "/opt/anaconda3/lib/python3.7/site-packages/matplotlib/backends/backend_agg.py:211: RuntimeWarning: Glyph 31435 missing from current font.\n",
      "  font.set_text(s, 0.0, flags=flags)\n",
      "/opt/anaconda3/lib/python3.7/site-packages/matplotlib/backends/backend_agg.py:211: RuntimeWarning: Glyph 23450 missing from current font.\n",
      "  font.set_text(s, 0.0, flags=flags)\n",
      "/opt/anaconda3/lib/python3.7/site-packages/matplotlib/backends/backend_agg.py:211: RuntimeWarning: Glyph 36339 missing from current font.\n",
      "  font.set_text(s, 0.0, flags=flags)\n",
      "/opt/anaconda3/lib/python3.7/site-packages/matplotlib/backends/backend_agg.py:211: RuntimeWarning: Glyph 36828 missing from current font.\n",
      "  font.set_text(s, 0.0, flags=flags)\n",
      "/opt/anaconda3/lib/python3.7/site-packages/matplotlib/backends/backend_agg.py:211: RuntimeWarning: Glyph 22352 missing from current font.\n",
      "  font.set_text(s, 0.0, flags=flags)\n",
      "/opt/anaconda3/lib/python3.7/site-packages/matplotlib/backends/backend_agg.py:211: RuntimeWarning: Glyph 20301 missing from current font.\n",
      "  font.set_text(s, 0.0, flags=flags)\n",
      "/opt/anaconda3/lib/python3.7/site-packages/matplotlib/backends/backend_agg.py:211: RuntimeWarning: Glyph 21069 missing from current font.\n",
      "  font.set_text(s, 0.0, flags=flags)\n",
      "/opt/anaconda3/lib/python3.7/site-packages/matplotlib/backends/backend_agg.py:211: RuntimeWarning: Glyph 23624 missing from current font.\n",
      "  font.set_text(s, 0.0, flags=flags)\n",
      "/opt/anaconda3/lib/python3.7/site-packages/matplotlib/backends/backend_agg.py:211: RuntimeWarning: Glyph 37325 missing from current font.\n",
      "  font.set_text(s, 0.0, flags=flags)\n",
      "/opt/anaconda3/lib/python3.7/site-packages/matplotlib/backends/backend_agg.py:211: RuntimeWarning: Glyph 36523 missing from current font.\n",
      "  font.set_text(s, 0.0, flags=flags)\n",
      "/opt/anaconda3/lib/python3.7/site-packages/matplotlib/backends/backend_agg.py:211: RuntimeWarning: Glyph 39640 missing from current font.\n",
      "  font.set_text(s, 0.0, flags=flags)\n",
      "/opt/anaconda3/lib/python3.7/site-packages/matplotlib/backends/backend_agg.py:180: RuntimeWarning: Glyph 24341 missing from current font.\n",
      "  font.set_text(s, 0, flags=flags)\n",
      "/opt/anaconda3/lib/python3.7/site-packages/matplotlib/backends/backend_agg.py:180: RuntimeWarning: Glyph 20307 missing from current font.\n",
      "  font.set_text(s, 0, flags=flags)\n",
      "/opt/anaconda3/lib/python3.7/site-packages/matplotlib/backends/backend_agg.py:180: RuntimeWarning: Glyph 21521 missing from current font.\n",
      "  font.set_text(s, 0, flags=flags)\n",
      "/opt/anaconda3/lib/python3.7/site-packages/matplotlib/backends/backend_agg.py:180: RuntimeWarning: Glyph 19978 missing from current font.\n",
      "  font.set_text(s, 0, flags=flags)\n",
      "/opt/anaconda3/lib/python3.7/site-packages/matplotlib/backends/backend_agg.py:180: RuntimeWarning: Glyph 31859 missing from current font.\n",
      "  font.set_text(s, 0, flags=flags)\n",
      "/opt/anaconda3/lib/python3.7/site-packages/matplotlib/backends/backend_agg.py:180: RuntimeWarning: Glyph 36305 missing from current font.\n",
      "  font.set_text(s, 0, flags=flags)\n",
      "/opt/anaconda3/lib/python3.7/site-packages/matplotlib/backends/backend_agg.py:180: RuntimeWarning: Glyph 32954 missing from current font.\n",
      "  font.set_text(s, 0, flags=flags)\n",
      "/opt/anaconda3/lib/python3.7/site-packages/matplotlib/backends/backend_agg.py:180: RuntimeWarning: Glyph 27963 missing from current font.\n",
      "  font.set_text(s, 0, flags=flags)\n",
      "/opt/anaconda3/lib/python3.7/site-packages/matplotlib/backends/backend_agg.py:180: RuntimeWarning: Glyph 37327 missing from current font.\n",
      "  font.set_text(s, 0, flags=flags)\n",
      "/opt/anaconda3/lib/python3.7/site-packages/matplotlib/backends/backend_agg.py:180: RuntimeWarning: Glyph 31435 missing from current font.\n",
      "  font.set_text(s, 0, flags=flags)\n",
      "/opt/anaconda3/lib/python3.7/site-packages/matplotlib/backends/backend_agg.py:180: RuntimeWarning: Glyph 23450 missing from current font.\n",
      "  font.set_text(s, 0, flags=flags)\n",
      "/opt/anaconda3/lib/python3.7/site-packages/matplotlib/backends/backend_agg.py:180: RuntimeWarning: Glyph 36339 missing from current font.\n",
      "  font.set_text(s, 0, flags=flags)\n",
      "/opt/anaconda3/lib/python3.7/site-packages/matplotlib/backends/backend_agg.py:180: RuntimeWarning: Glyph 36828 missing from current font.\n",
      "  font.set_text(s, 0, flags=flags)\n",
      "/opt/anaconda3/lib/python3.7/site-packages/matplotlib/backends/backend_agg.py:180: RuntimeWarning: Glyph 22352 missing from current font.\n",
      "  font.set_text(s, 0, flags=flags)\n",
      "/opt/anaconda3/lib/python3.7/site-packages/matplotlib/backends/backend_agg.py:180: RuntimeWarning: Glyph 20301 missing from current font.\n",
      "  font.set_text(s, 0, flags=flags)\n",
      "/opt/anaconda3/lib/python3.7/site-packages/matplotlib/backends/backend_agg.py:180: RuntimeWarning: Glyph 21069 missing from current font.\n",
      "  font.set_text(s, 0, flags=flags)\n",
      "/opt/anaconda3/lib/python3.7/site-packages/matplotlib/backends/backend_agg.py:180: RuntimeWarning: Glyph 23624 missing from current font.\n",
      "  font.set_text(s, 0, flags=flags)\n",
      "/opt/anaconda3/lib/python3.7/site-packages/matplotlib/backends/backend_agg.py:180: RuntimeWarning: Glyph 37325 missing from current font.\n",
      "  font.set_text(s, 0, flags=flags)\n",
      "/opt/anaconda3/lib/python3.7/site-packages/matplotlib/backends/backend_agg.py:180: RuntimeWarning: Glyph 36523 missing from current font.\n",
      "  font.set_text(s, 0, flags=flags)\n",
      "/opt/anaconda3/lib/python3.7/site-packages/matplotlib/backends/backend_agg.py:180: RuntimeWarning: Glyph 39640 missing from current font.\n",
      "  font.set_text(s, 0, flags=flags)\n",
      "/opt/anaconda3/lib/python3.7/site-packages/matplotlib/backends/backend_agg.py:180: RuntimeWarning: Glyph 38468 missing from current font.\n",
      "  font.set_text(s, 0, flags=flags)\n",
      "/opt/anaconda3/lib/python3.7/site-packages/matplotlib/backends/backend_agg.py:180: RuntimeWarning: Glyph 20214 missing from current font.\n",
      "  font.set_text(s, 0, flags=flags)\n",
      "/opt/anaconda3/lib/python3.7/site-packages/matplotlib/backends/backend_agg.py:180: RuntimeWarning: Glyph 65306 missing from current font.\n",
      "  font.set_text(s, 0, flags=flags)\n",
      "/opt/anaconda3/lib/python3.7/site-packages/matplotlib/backends/backend_agg.py:180: RuntimeWarning: Glyph 31532 missing from current font.\n",
      "  font.set_text(s, 0, flags=flags)\n",
      "/opt/anaconda3/lib/python3.7/site-packages/matplotlib/backends/backend_agg.py:180: RuntimeWarning: Glyph 19968 missing from current font.\n",
      "  font.set_text(s, 0, flags=flags)\n",
      "/opt/anaconda3/lib/python3.7/site-packages/matplotlib/backends/backend_agg.py:180: RuntimeWarning: Glyph 24180 missing from current font.\n",
      "  font.set_text(s, 0, flags=flags)\n",
      "/opt/anaconda3/lib/python3.7/site-packages/matplotlib/backends/backend_agg.py:180: RuntimeWarning: Glyph 65288 missing from current font.\n",
      "  font.set_text(s, 0, flags=flags)\n",
      "/opt/anaconda3/lib/python3.7/site-packages/matplotlib/backends/backend_agg.py:180: RuntimeWarning: Glyph 21517 missing from current font.\n",
      "  font.set_text(s, 0, flags=flags)\n",
      "/opt/anaconda3/lib/python3.7/site-packages/matplotlib/backends/backend_agg.py:180: RuntimeWarning: Glyph 30007 missing from current font.\n",
      "  font.set_text(s, 0, flags=flags)\n",
      "/opt/anaconda3/lib/python3.7/site-packages/matplotlib/backends/backend_agg.py:180: RuntimeWarning: Glyph 65289 missing from current font.\n",
      "  font.set_text(s, 0, flags=flags)\n"
     ]
    },
    {
     "data": {
      "image/png": "[encoded data removed]",
      "text/plain": [
       "<Figure size 432x288 with 1 Axes>"
      ]
     },
     "metadata": {
      "needs_background": "light"
     },
     "output_type": "display_data"
    }
   ],
   "source": [
    "    #男结果图\n",
    "    DataFrame_TestM = function_ReadFile('/Users/zhoujianjun/Downloads/workplace/2020-05-21/data/附件2：第一年（1000名男）.xlsx')\n",
    "    list_Importances_TestM = function_Importances(DataFrame_TestM)\n",
    "    function_Plot(list_Importances_TestM[0], '/Users/zhoujianjun/Downloads/workplace/2020-05-21/image/附件2：第一年（1000名男）.jpg')"
   ]
  },
  {
   "cell_type": "code",
   "execution_count": 31,
   "metadata": {},
   "outputs": [
    {
     "name": "stdout",
     "output_type": "stream",
     "text": [
      "[67.92999999999999, 75.81, 77.24000000000001, 57.75999999999999, 81.76, 67.24, 65.49999999999999, 52.58, 70.35000000000001, 72.60999999999999, 59.31, 59.220000000000006, 72.21, 68.47999999999999, 67.29, 64.92999999999999, 55.07000000000001, 65.46000000000001, 60.31, 71.17000000000002, 74.01, 71.11999999999999, 52.33, 60.88000000000001, 64.71, 80.88000000000002, 64.26, 43.82000000000001, 55.629999999999995, 72.38, 73.54, 51.9, 54.749999999999986, 60.5, 70.18, 76.38, 85.42, 68.91, 63.2, 53.48, 63.31999999999999, 72.00000000000001, 54.029999999999994, 68.31000000000002, 69.11000000000001, 58.71, 63.44, 75.55, 72.44, 71.70000000000002, 68.98000000000002, 67.59, 74.21000000000001, 59.64999999999999, 52.58, 66.55, 61.339999999999996, 61.230000000000004, 67.20000000000002, 70.66, 65.86999999999999, 61.64999999999999, 66.15, 75.2, 58.879999999999995, 63.95, 65.19999999999999, 72.22, 54.870000000000005, 72.42999999999999, 71.75000000000001, 65.82000000000001, 64.75999999999999, 65.78, 70.47999999999999, 74.41000000000001, 64.4, 70.81000000000002, 57.44000000000001, 71.91000000000001, 47.67999999999999, 79.67, 64.67, 57.75, 67.9, 80.25, 63.77, 52.61, 83.46000000000001, 64.2, 78.34, 69.44, 58.06, 65.47999999999999, 62.21, 61.36, 76.41999999999999, 70.71000000000001, 56.919999999999995, 77.03, 61.19, 72.57000000000001, 61.010000000000005, 76.27000000000001, 63.5, 68.2, 75.83000000000001, 80.72, 55.64, 52.06, 75.30999999999999, 57.8, 67.15, 61.089999999999996, 55.69, 47.32, 71.54, 70.52000000000001, 67.60000000000001, 62.55999999999999, 71.72999999999999, 65.44, 56.65, 74.86, 78.45000000000002, 72.21000000000001, 72.94999999999999, 61.55, 74.96000000000001, 80.38, 79.14000000000001, 67.72000000000001, 70.63000000000001, 64.06, 80.86, 63.8, 51.31, 68.09, 65.53, 60.45, 64.12, 67.09, 81.16999999999999, 69.82, 66.13000000000001, 66.99, 71.35000000000001, 76.10999999999999, 62.35999999999999, 64.77000000000001, 72.46000000000001, 71.72, 56.53000000000001, 59.96, 62.98, 57.27, 70.84, 66.62, 75.5, 57.29, 68.06, 62.05, 67.52, 69.11999999999999, 67.63000000000001, 84.46000000000001, 58.730000000000004, 67.81, 65.58, 63.11, 80.72, 69.75, 71.47999999999999, 72.86, 63.36999999999999, 65.33999999999999, 76.46000000000001, 65.78, 74.76, 66.09, 61.040000000000006, 61.489999999999995, 64.17, 72.27, 68.1, 61.78000000000001, 71.57, 61.9, 48.42, 49.61, 68.63000000000001, 70.55, 69.75, 61.65, 59.279999999999994, 64.58, 66.52000000000001, 63.230000000000004, 67.05, 66.2, 78.05999999999999, 76.08, 72.66, 65.83, 61.169999999999995, 65.61999999999999, 64.3, 64.32000000000001, 60.95, 77.92, 67.91, 40.910000000000004, 74.27000000000001, 59.11999999999999, 68.27000000000001, 76.05, 54.17, 53.06999999999999, 67.8, 67.93, 85.28999999999999, 64.31000000000002, 77.05, 66.82, 84.31, 68.18, 77.1, 74.57, 67.28, 70.09, 61.46, 61.11, 65.56000000000002, 72.02, 74.03999999999999, 75.06, 72.96000000000001, 68.11, 58.760000000000005, 73.18999999999998, 71.71000000000001, 56.19000000000001, 68.87, 67.75999999999999, 82.92, 62.31, 80.5, 55.669999999999995, 74.23999999999998, 66.86999999999999, 76.08, 67.13, 65.65, 79.89, 63.23999999999999, 85.84, 59.86, 76.91999999999999, 71.9, 58.95, 51.5, 66.08, 68.66, 68.02000000000001, 66.98, 77.13999999999999, 51.61999999999999, 50.77, 77.49000000000001, 86.16, 70.67, 66.75000000000001, 63.120000000000005, 55.85999999999999, 77.48, 69.61999999999999, 72.28999999999999, 59.36, 75.42999999999999, 76.03, 74.16, 66.28, 74.7, 66.02000000000001, 65.24, 58.15, 62.769999999999996, 57.7, 56.629999999999995, 59.78000000000001, 67.94, 60.019999999999996, 52.720000000000006, 80.84, 67.06, 67.66, 64.97999999999999, 65.31, 59.269999999999996, 69.27000000000001, 80.96000000000001, 59.6, 66.27, 60.3, 71.21000000000001, 69.64, 61.95, 70.92000000000002, 67.34, 62.43000000000001, 67.87, 77.13, 63.660000000000004, 64.99, 67.12, 74.10999999999999, 72.73, 65.88999999999999, 58.54, 73.28999999999999, 67.22, 65.2, 64.42000000000002, 73.35000000000001, 56.739999999999995, 60.269999999999996, 60.419999999999995, 74.37, 64.72000000000001, 68.03, 49.59, 60.62000000000002, 71.44, 66.37, 62.8, 64.1, 75.12, 41.43, 76.03, 57.460000000000015, 65.47, 66.22999999999999, 68.42999999999999, 69.17, 71.76999999999998, 65.5, 62.989999999999995, 64.83, 58.2, 70.14000000000001, 60.65, 69.95, 57.6, 70.10000000000001, 53.260000000000005, 61.27999999999999, 50.519999999999996, 57.660000000000004, 66.46000000000001, 58.629999999999995, 74.48, 77.63000000000001, 74.24, 73.17999999999999, 73.93, 70.98, 64.35, 57.45000000000001, 78.47999999999999, 51.46, 65.97999999999999, 71.97, 73.37, 65.04, 62.65, 52.14, 62.05, 68.77000000000001, 66.55, 69.63, 72.33000000000001, 70.38000000000001, 67.21, 73.15, 63.75, 66.16999999999999, 64.96, 64.41, 63.419999999999995, 59.81, 70.16000000000001, 63.580000000000005, 52.83, 62.57000000000001, 73.83000000000001, 65.78, 69.67, 73.64, 63.95, 67.07000000000001, 65.78, 73.25, 62.08999999999999, 69.16, 67.34, 61.60000000000001, 63.289999999999985, 52.9, 47.010000000000005, 73.95, 56.81, 56.35, 42.22, 61.06000000000002, 67.38000000000001, 57.129999999999995, 69.00999999999999, 63.89, 54.52, 48.2, 42.65, 53.370000000000005, 72.55, 73.71000000000001, 69.21, 69.14999999999999, 65.33, 62.239999999999995, 65.97, 51.7, 64.22999999999999, 56.05, 59.13000000000001, 59.21999999999999, 76.09, 65.61, 58.67, 51.4, 69.89000000000001, 75.62, 63.03000000000001, 66.33000000000001, 61.790000000000006, 54.67, 78.16, 69.92999999999999, 58.54, 67.02, 71.97, 54.910000000000004, 74.74000000000001, 77.33, 68.4, 70.19, 60.82000000000001, 65.02000000000001, 71.53, 67.36999999999999, 62.760000000000005, 63.32000000000001, 52.9, 52.75, 36.88, 61.48, 66.75999999999999, 68.91, 80.69000000000001, 70.46000000000001, 71.01000000000002, 76.81, 82.75999999999999, 63.69, 75.72999999999999, 77.39000000000001, 74.52000000000001, 65.15, 72.27000000000001, 76.39000000000001, 64.46000000000001, 72.14999999999999, 79.66999999999999, 91.93000000000002, 81.77000000000001, 78.22999999999999, 80.67, 71.49000000000001, 81.02000000000001, 70.46000000000001, 77.95, 50.03000000000001, 68.30999999999999, 79.78, 75.51, 62.389999999999986, 55.44, 61.269999999999996, 57.489999999999995, 64.13999999999999, 37.6, 84.66000000000001, 76.57000000000001, 66.26, 81.63999999999999, 75.99000000000001, 81.2, 77.22, 61.980000000000004, 78.28999999999999, 59.89, 42.470000000000006, 62.78000000000001, 58.40999999999999, 67.82, 67.2, 81.53, 64.53, 70.2, 80.53, 56.82000000000001, 63.46999999999999, 64.08, 72.41, 58.94, 65.35, 66.86000000000001, 68.32000000000001, 57.160000000000004, 67.74, 66.92, 80.17999999999999, 53.470000000000006, 66.21, 68.68, 72.82000000000001, 66.03999999999999, 66.53999999999999, 63.080000000000005, 65.94000000000001, 66.16000000000001, 65.87, 61.410000000000004, 55.739999999999995, 76.49, 66.28, 64.92999999999999, 55.64, 59.73, 69.39, 61.54999999999999, 70.35999999999999, 71.54999999999998, 65.84, 63.39, 64.60999999999999, 73.15, 67.81000000000002, 56.83, 57.93999999999998, 56.84000000000001, 61.64, 57.260000000000005, 58.81999999999999, 73.74, 65.33, 69.32000000000001, 62.60999999999999, 54.65, 77.42, 60.739999999999995, 56.00999999999999, 56.019999999999996, 75.32000000000001, 52.989999999999995, 76.66999999999999, 78.78999999999999, 67.85, 60.50999999999999, 70.01, 62.5, 55.64, 54.78000000000001, 56.43000000000001, 66.95, 51.64000000000001, 66.58, 74.12, 65.59, 62.04, 65.95000000000002, 62.540000000000006, 56.14999999999999, 67.97999999999999, 62.06999999999999, 54.29, 64.34, 62.49000000000001, 62.02, 69.08, 66.47000000000001, 69.74000000000001, 61.55, 59.92999999999999, 62.510000000000005, 72.41, 64.69, 49.77, 70.99000000000002, 63.67999999999999, 64.09, 66.76, 77.61999999999999, 75.51, 66.25, 62.49000000000001, 78.71, 66.94000000000001, 78.53, 64.16, 58.08, 53.44, 70.01000000000002, 72.08, 62.04, 67.62, 64.14000000000001, 58.40999999999999, 63.03000000000001, 58.980000000000004, 67.02000000000001, 54.82000000000001, 57.98, 74.17000000000002, 72.08, 57.500000000000014, 76.4, 66.67999999999999, 60.15999999999999, 63.660000000000004, 58.02, 55.71999999999999, 66.86, 60.410000000000004, 61.34000000000001, 75.84, 64.59, 70.28999999999999, 63.39, 75.99, 48.269999999999996, 63.96, 61.129999999999995, 73.77000000000001, 73.14000000000001, 69.22, 72.67, 81.59, 81.88, 63.98, 70.84, 66.17999999999999, 74.41999999999999, 61.480000000000004, 66.92, 61.660000000000004, 72.6, 55.73, 76.35, 65.38999999999999, 69.25000000000001, 71.47, 75.08000000000001, 63.279999999999994, 56.339999999999996, 61.04, 52.03000000000001, 47.35, 55.85999999999999, 67.75, 56.339999999999996, 60.38000000000001, 54.470000000000006, 54.779999999999994, 66.37, 65.20000000000002, 66.8, 68.78999999999999, 61.19, 59.73, 60.57000000000001, 74.3, 67.45000000000002, 63.580000000000005, 60.589999999999996, 67.21000000000001, 71.83000000000001, 63.25999999999999, 64.39, 65.91000000000001, 55.580000000000005, 52.220000000000006, 65.34, 66.19, 54.279999999999994, 53.15999999999999, 66.14, 68.86999999999999, 82.34, 70.05, 78.66, 73.35000000000001, 85.92, 61.99000000000001, 72.68, 86.18, 79.93, 74.38000000000001, 61.510000000000005, 56.25, 57.46, 75.17999999999999, 87.50000000000003, 62.14000000000001, 57.6, 55.30999999999999, 74.65, 70.24, 71.94, 74.9, 75.25000000000001, 67.31, 57.4, 69.06, 61.760000000000005, 64.49, 93.02000000000001, 74.6, 64.17999999999999, 60.14, 79.76, 74.67000000000002, 62.89000000000001, 69.12, 68.63000000000001, 74.38000000000001, 67.82000000000001, 75.7, 73.04, 72.2, 60.29999999999999, 79.95, 72.12, 76.93, 74.65, 84.96000000000001, 64.47, 46.260000000000005, 82.17, 75.66, 81.06, 78.87, 68.94000000000001, 81.17999999999999, 76.85, 75.48, 78.33000000000001, 70.34, 57.29, 33.9, 87.07000000000002, 68.50000000000001, 69.74, 77.36, 60.089999999999996, 81.41, 68.82000000000001, 76.24999999999999, 73.36000000000001, 75.55, 74.28, 74.59, 70.63000000000001, 69.84, 77.22, 77.13000000000001, 75.81, 65.49, 72.2, 60.60999999999999, 77.56, 49.56, 71.65, 75.53, 65.22, 66.63000000000001, 75.47, 83.33000000000001, 71.2, 82.45, 81.80000000000001, 84.21000000000001, 60.80999999999999, 71.85000000000001, 74.09, 73.96, 75.78999999999999, 89.66, 63.790000000000006, 72.81, 64.44, 73.28, 54.0, 75.64000000000001, 67.57, 74.12000000000002, 71.57000000000001, 69.49000000000001, 70.91, 59.46999999999999, 79.88, 62.970000000000006, 71.32000000000001, 65.44, 77.16999999999999, 55.45, 59.67999999999999, 74.41, 74.08, 80.67, 60.38000000000001, 69.53999999999999, 68.42999999999999, 74.67, 64.42, 66.85999999999999, 54.3, 64.49, 64.14000000000001, 69.8, 77.77, 76.36, 68.05000000000001, 80.57, 78.99, 88.03000000000002, 68.97, 59.88000000000001, 85.30000000000001, 55.019999999999996, 79.74, 82.85000000000001, 82.07000000000001, 62.32000000000001, 90.76000000000002, 70.01, 74.55, 75.14, 72.23, 81.92, 65.55, 62.05, 51.260000000000005, 65.60999999999999, 74.87000000000002, 57.589999999999996, 85.30000000000001, 84.84, 73.96000000000001, 80.51000000000002, 53.339999999999996, 50.559999999999995, 70.83, 55.410000000000004, 71.88, 60.620000000000005, 54.86999999999999, 70.39000000000001, 65.32, 52.010000000000005, 74.55999999999999, 78.08000000000001, 65.38, 71.03, 60.11, 68.02000000000001, 74.75000000000001, 65.60000000000001, 53.29, 70.22999999999999, 58.45000000000001, 70.06, 66.72999999999999, 55.50999999999999, 75.53, 60.77, 59.629999999999995, 64.81000000000002, 64.92, 66.77, 66.13000000000001, 63.82000000000001, 52.31, 63.55, 74.13000000000001, 56.6, 66.33, 75.73000000000002, 67.98, 73.34, 67.03999999999999, 67.93, 65.57000000000001, 64.29, 59.370000000000005, 68.74000000000001, 54.339999999999996, 59.46999999999999, 58.9, 46.07000000000001, 69.53999999999999, 69.33999999999999, 63.410000000000004, 66.57000000000001, 76.99, 71.95, 37.019999999999996, 53.4, 56.989999999999995, 54.120000000000005, 53.39, 90.87000000000002, 62.92, 71.82, 71.86999999999999, 79.58999999999999, 72.83, 60.69000000000001, 72.4, 72.82000000000001, 65.51, 71.68999999999998, 71.92, 63.48, 61.510000000000005, 62.69000000000001, 67.19999999999999, 68.12, 69.92, 86.00000000000001, 79.5, 76.81, 64.66999999999999, 62.85999999999999, 66.95, 73.03999999999999, 58.81, 57.60000000000001, 52.42, 65.2, 72.60000000000001, 59.499999999999986, 62.09000000000001, 64.02, 57.79999999999999, 78.38000000000001, 78.22999999999999, 73.38, 67.61, 72.14000000000001, 64.41, 68.84, 67.91, 51.870000000000005, 42.36000000000001, 75.42, 76.64999999999999, 68.00000000000001, 68.96000000000001, 71.42, 66.79, 70.74, 66.65, 70.52000000000001, 67.67999999999999, 66.19999999999999, 62.82000000000001, 69.62, 61.779999999999994, 64.73, 60.1, 55.05, 69.14, 71.08000000000001, 60.61, 61.04, 66.38000000000001, 64.64000000000001, 44.3, 64.37, 62.7, 68.12]\n"
     ]
    }
   ],
   "source": [
    "    # 男训练集合\n",
    "    DataFrame_TrainM = function_ReadFile('/Users/zhoujianjun/Downloads/workplace/2020-05-21/data/附件4：第二年（1000名男）.xlsx')\n",
    "    # 男训练级预测结果\n",
    "    print(list(list_Importances_TestM[1].predict(DataFrame_TrainM.iloc[:, 1:-1])))"
   ]
  },
  {
   "cell_type": "code",
   "execution_count": 63,
   "metadata": {},
   "outputs": [],
   "source": [
    "    #定义关联规则函数\n",
    "    def function_rules(parm_DataFrame,parm_confidence=0.85):\n",
    "        \"\"\"\n",
    "        @author:***\n",
    "        @parameter: {parm_DataFrame:数据框,parm_confidence:最新致信读默认为0.85}\n",
    "        @create_date:\n",
    "        @update_date:\n",
    "        @comment:获取关联规则\n",
    "        \"\"\"\n",
    "        itemsets_female, rules = apriori(parm_DataFrame.values.tolist()\n",
    "                                        ,min_support=0.5\n",
    "                                        ,min_confidence=parm_confidence)\n",
    "        return rules_female"
   ]
  },
  {
   "cell_type": "code",
   "execution_count": 62,
   "metadata": {},
   "outputs": [
    {
     "name": "stdout",
     "output_type": "stream",
     "text": [
      "[{800米及格} -> {仰卧起坐及格}, {50米及格} -> {仰卧起坐及格}, {肺活量及格} -> {仰卧起坐及格}, {立定跳远及格} -> {仰卧起坐及格}, {50米及格, 800米及格} -> {仰卧起坐及格}, {50米及格, 正常} -> {仰卧起坐及格}, {50米及格, 肺活量及格} -> {仰卧起坐及格}, {800米及格, 正常} -> {仰卧起坐及格}, {800米及格, 肺活量及格} -> {仰卧起坐及格}, {正常, 肺活量及格} -> {仰卧起坐及格}, {50米及格, 立定跳远及格} -> {800米及格}, {仰卧起坐及格, 立定跳远及格} -> {800米及格}, {800米及格, 立定跳远及格} -> {仰卧起坐及格}, {立定跳远及格, 肺活量及格} -> {仰卧起坐及格}, {50米及格, 立定跳远及格} -> {仰卧起坐及格}]\n"
     ]
    }
   ],
   "source": [
    "    #获取女性数据关联规则\n",
    "    dataframe_rule_female = pd.read_csv('/Users/zhoujianjun/Downloads/workplace/2020-05-21/data/female.csv',encoding = 'gbk').iloc[:,1:]\n",
    "    print(function_rules(dataframe_rule_female))"
   ]
  },
  {
   "cell_type": "code",
   "execution_count": 64,
   "metadata": {},
   "outputs": [
    {
     "name": "stdout",
     "output_type": "stream",
     "text": [
      "[{800米及格} -> {仰卧起坐及格}, {50米及格} -> {仰卧起坐及格}, {肺活量及格} -> {仰卧起坐及格}, {立定跳远及格} -> {仰卧起坐及格}, {50米及格, 800米及格} -> {仰卧起坐及格}, {50米及格, 正常} -> {仰卧起坐及格}, {50米及格, 肺活量及格} -> {仰卧起坐及格}, {800米及格, 正常} -> {仰卧起坐及格}, {800米及格, 肺活量及格} -> {仰卧起坐及格}, {正常, 肺活量及格} -> {仰卧起坐及格}, {50米及格, 立定跳远及格} -> {800米及格}, {仰卧起坐及格, 立定跳远及格} -> {800米及格}, {800米及格, 立定跳远及格} -> {仰卧起坐及格}, {立定跳远及格, 肺活量及格} -> {仰卧起坐及格}, {50米及格, 立定跳远及格} -> {仰卧起坐及格}]\n"
     ]
    }
   ],
   "source": [
    "    #获取男性数据关联规则\n",
    "    dataframe_rule_male = pd.read_csv('/Users/zhoujianjun/Downloads/workplace/2020-05-21/data/male.csv',encoding = 'gbk').iloc[:,1:]\n",
    "    print(function_rules(dataframe_rule_male))"
   ]
  },
  {
   "cell_type": "code",
   "execution_count": 145,
   "metadata": {},
   "outputs": [
    {
     "name": "stdout",
     "output_type": "stream",
     "text": [
      "KMeans(algorithm='auto', copy_x=True, init='k-means++', max_iter=300,\n",
      "       n_clusters=3, n_init=10, n_jobs=None, precompute_distances='auto',\n",
      "       random_state=None, tol=0.0001, verbose=0)\n"
     ]
    }
   ],
   "source": [
    "    #获取女性第一年kmeans \n",
    "    kmeans_test_F = KMeans(n_clusters=3) \n",
    "    kmeans_test_F.fit(DataFrame_TestF.iloc[:,1:-1]) \n",
    "    print(kmeans_test_F)"
   ]
  },
  {
   "cell_type": "code",
   "execution_count": 87,
   "metadata": {},
   "outputs": [
    {
     "name": "stdout",
     "output_type": "stream",
     "text": [
      "KMeans(algorithm='auto', copy_x=True, init='k-means++', max_iter=300,\n",
      "       n_clusters=8, n_init=10, n_jobs=None, precompute_distances='auto',\n",
      "       random_state=None, tol=0.0001, verbose=0)\n"
     ]
    }
   ],
   "source": [
    "    #获取男性第一年kmeans\n",
    "    kmeans_test_M = KMeans() \n",
    "    kmeans_test_M.fit(DataFrame_TestM.iloc[:,1:-1]) \n",
    "    print(kmeans_test_M)"
   ]
  }
 ],
 "metadata": {
  "kernelspec": {
   "display_name": "Python 3",
   "language": "python",
   "name": "python3"
  },
  "language_info": {
   "codemirror_mode": {
    "name": "ipython",
    "version": 3
   },
   "file_extension": ".py",
   "mimetype": "text/x-python",
   "name": "python",
   "nbconvert_exporter": "python",
   "pygments_lexer": "ipython3",
   "version": "3.7.4"
  }
 },
 "nbformat": 4,
 "nbformat_minor": 2
}
